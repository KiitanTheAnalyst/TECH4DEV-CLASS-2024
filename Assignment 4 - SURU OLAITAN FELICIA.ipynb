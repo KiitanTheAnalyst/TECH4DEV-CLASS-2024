{
 "cells": [
  {
   "cell_type": "markdown",
   "id": "a33601da",
   "metadata": {},
   "source": [
    "# Check at list 20 method in list, tuples, dictionaries and give an example writing a python code"
   ]
  },
  {
   "cell_type": "markdown",
   "id": "8298d9c3",
   "metadata": {},
   "source": [
    "# Lists:\n"
   ]
  },
  {
   "cell_type": "markdown",
   "id": "ade63115",
   "metadata": {},
   "source": [
    "# 1. Append(): Adds an element to the end of the list.\n",
    "Find Example below:"
   ]
  },
  {
   "cell_type": "code",
   "execution_count": 2,
   "id": "7b95bb8f",
   "metadata": {},
   "outputs": [
    {
     "name": "stdout",
     "output_type": "stream",
     "text": [
      "[1, 2, 3, 4]\n"
     ]
    }
   ],
   "source": [
    "Numbers = [1, 2, 3]\n",
    "\n",
    "#To include number 4\n",
    "Numbers.append(4)\n",
    "\n",
    "print(Numbers)  "
   ]
  },
  {
   "cell_type": "markdown",
   "id": "80b04612",
   "metadata": {},
   "source": [
    "# 2. remove(): Removes the first occurrence of a specified element\n",
    "Find Example below:"
   ]
  },
  {
   "cell_type": "code",
   "execution_count": 3,
   "id": "2d982e44",
   "metadata": {},
   "outputs": [
    {
     "name": "stdout",
     "output_type": "stream",
     "text": [
      "['Bola', 'Dorcas', 'Bukola']\n"
     ]
    }
   ],
   "source": [
    "Names = ['Bola', 'Zainab', 'Dorcas', 'Bukola']\n",
    "\n",
    "#To remove zainab\n",
    "Names.remove('Zainab')\n",
    "\n",
    "print(Names)\n"
   ]
  },
  {
   "cell_type": "markdown",
   "id": "dd1956eb",
   "metadata": {},
   "source": [
    "# 3. Extend(): Appends the elements of another list to the end of the current list.\n",
    "Find Example below:"
   ]
  },
  {
   "cell_type": "code",
   "execution_count": 7,
   "id": "462ad70c",
   "metadata": {},
   "outputs": [
    {
     "name": "stdout",
     "output_type": "stream",
     "text": [
      "[10, 20, 30, 40, 50, 60]\n"
     ]
    }
   ],
   "source": [
    "list_One = [10, 20, 30]\n",
    "list_Two = [40, 50, 60]\n",
    "\n",
    "#To join list one and two\n",
    "list_One.extend(list_Two)\n",
    "\n",
    "print(list_One)  \n"
   ]
  },
  {
   "cell_type": "markdown",
   "id": "82945234",
   "metadata": {},
   "source": [
    "# 4. Pop():Removes and returns the element at the specified index.\n",
    "Find Example below:"
   ]
  },
  {
   "cell_type": "code",
   "execution_count": 13,
   "id": "32ed4dbc",
   "metadata": {
    "scrolled": true
   },
   "outputs": [
    {
     "name": "stdout",
     "output_type": "stream",
     "text": [
      "['Lagos', 'Oyo', 'Osun', 'Plateau']\n",
      "Benue\n"
     ]
    }
   ],
   "source": [
    "States = ['Lagos', 'Oyo', 'Osun', 'Plateau', 'Benue']\n",
    "\n",
    "#To remove and return Benue\n",
    "popped_element = States.pop(4)\n",
    "\n",
    "print(States)      \n",
    "print(popped_element)  \n"
   ]
  },
  {
   "cell_type": "markdown",
   "id": "2deaff12",
   "metadata": {},
   "source": [
    "# 5. Index():Returns the index of the first occurrence of a specified element\n",
    "Find Example below:"
   ]
  },
  {
   "cell_type": "code",
   "execution_count": 15,
   "id": "2273f221",
   "metadata": {},
   "outputs": [
    {
     "name": "stdout",
     "output_type": "stream",
     "text": [
      "3\n"
     ]
    }
   ],
   "source": [
    "Numbers = [1, 2, 3, 4, 2]\n",
    "\n",
    "#To return the index of 4, that is,the single number that occurs before\n",
    "index = Numbers.index(4)\n",
    "\n",
    "print(index)  \n"
   ]
  },
  {
   "cell_type": "markdown",
   "id": "b7df9512",
   "metadata": {},
   "source": [
    "# 6. Sort() method sorts the list ascending by default.\n",
    "Find Example Below:"
   ]
  },
  {
   "cell_type": "code",
   "execution_count": 6,
   "id": "3d182755",
   "metadata": {
    "scrolled": true
   },
   "outputs": [
    {
     "name": "stdout",
     "output_type": "stream",
     "text": [
      "['Bowen', 'Funaab', 'Unilag']\n"
     ]
    }
   ],
   "source": [
    "Universities = ['Unilag', 'Funaab', 'Bowen']\n",
    "\n",
    "#To sort universities alphabetically\n",
    "Universities.sort()\n",
    "\n",
    "print(Universities)"
   ]
  },
  {
   "cell_type": "markdown",
   "id": "6136ee4d",
   "metadata": {},
   "source": [
    "# 7. Insert()\tAdds an element at the specified position\n",
    "Find Example below:"
   ]
  },
  {
   "cell_type": "code",
   "execution_count": 7,
   "id": "8e0d2912",
   "metadata": {},
   "outputs": [
    {
     "name": "stdout",
     "output_type": "stream",
     "text": [
      "['berries', 'orange', 'mango', 'apples']\n"
     ]
    }
   ],
   "source": [
    "fruits = ['berries', 'mango', 'apples']\n",
    "\n",
    "#To sort add orange to the list\n",
    "fruits.insert(1, \"orange\")\n",
    "\n",
    "print(fruits)\n"
   ]
  },
  {
   "cell_type": "markdown",
   "id": "bb44f49f",
   "metadata": {},
   "source": [
    "# 8. copy()\tReturns a copy of the list\n",
    "Find Example below:"
   ]
  },
  {
   "cell_type": "code",
   "execution_count": 11,
   "id": "262d8e4d",
   "metadata": {},
   "outputs": [
    {
     "name": "stdout",
     "output_type": "stream",
     "text": [
      "['apple', 'banana', 'cherry', 'orange']\n"
     ]
    }
   ],
   "source": [
    "fruits = ['apple', 'banana', 'cherry', 'orange']\n",
    "\n",
    "x = fruits.copy()\n",
    "\n",
    "print(x)"
   ]
  },
  {
   "cell_type": "markdown",
   "id": "ab8e1e91",
   "metadata": {},
   "source": [
    "# 9. clear()\tRemoves all the elements from the list\n",
    "Find Example below:"
   ]
  },
  {
   "cell_type": "code",
   "execution_count": 14,
   "id": "80415a0e",
   "metadata": {},
   "outputs": [
    {
     "name": "stdout",
     "output_type": "stream",
     "text": [
      "[]\n"
     ]
    }
   ],
   "source": [
    "assets = ['houses', 'cars', 'chairs', 'Tables']\n",
    "\n",
    "assets.clear()\n",
    "\n",
    "print(assets)"
   ]
  },
  {
   "cell_type": "markdown",
   "id": "1a5a392c",
   "metadata": {},
   "source": [
    "# 10. Count():Returns the number of occurrences of a specified element\n",
    "Find Example below:"
   ]
  },
  {
   "cell_type": "code",
   "execution_count": 17,
   "id": "d806220f",
   "metadata": {},
   "outputs": [
    {
     "name": "stdout",
     "output_type": "stream",
     "text": [
      "1\n"
     ]
    }
   ],
   "source": [
    "groceries = ['rice', 'yam', 'pepper' 'beans']\n",
    "\n",
    "#To count the number of times rice ocuurs in the list\n",
    "x = groceries.count(\"rice\")\n",
    "\n",
    "print(x)\n"
   ]
  },
  {
   "cell_type": "markdown",
   "id": "3bc230d4",
   "metadata": {},
   "source": [
    "# Tuples:"
   ]
  },
  {
   "cell_type": "markdown",
   "id": "dc7e6164",
   "metadata": {},
   "source": [
    "# 1. Count():Returns the number of occurrences of a specified element\n",
    "Find Example below:"
   ]
  },
  {
   "cell_type": "code",
   "execution_count": 18,
   "id": "ce39280c",
   "metadata": {},
   "outputs": [
    {
     "name": "stdout",
     "output_type": "stream",
     "text": [
      "3\n"
     ]
    }
   ],
   "source": [
    "my_tuple = (1, 2, 3, 2, 4, 5, 7, 8, 1, 4, 6, 1)\n",
    "\n",
    "#Count the number of time 1 occurs\n",
    "count = my_tuple.count(1)\n",
    "print(count)  \n"
   ]
  },
  {
   "cell_type": "markdown",
   "id": "284ffc57",
   "metadata": {},
   "source": [
    "# 2. Index():Returns the index of the first occurrence of a specified element\n",
    "Find Example below:"
   ]
  },
  {
   "cell_type": "code",
   "execution_count": 23,
   "id": "96b93525",
   "metadata": {},
   "outputs": [
    {
     "name": "stdout",
     "output_type": "stream",
     "text": [
      "1\n"
     ]
    }
   ],
   "source": [
    "my_tuple = (1, 2, 3, 2, 4)\n",
    "\n",
    "index = my_tuple.index(2)\n",
    "print(index) \n"
   ]
  },
  {
   "cell_type": "markdown",
   "id": "081a5936",
   "metadata": {},
   "source": [
    "# Dictionaries:"
   ]
  },
  {
   "cell_type": "markdown",
   "id": "e55961d5",
   "metadata": {},
   "source": [
    "# 1. Keys(): Returns a view of all the keys in the dictionary\n",
    "Find Example below:"
   ]
  },
  {
   "cell_type": "code",
   "execution_count": 24,
   "id": "e29ad14e",
   "metadata": {},
   "outputs": [
    {
     "name": "stdout",
     "output_type": "stream",
     "text": [
      "dict_keys(['a', 'b', 'c'])\n"
     ]
    }
   ],
   "source": [
    "my_dict = {'a': 1, 'b': 2, 'c': 3}\n",
    "\n",
    "all_keys = my_dict.keys()\n",
    "print(all_keys)  \n"
   ]
  },
  {
   "cell_type": "markdown",
   "id": "bbcf3c6b",
   "metadata": {},
   "source": [
    "# 2. Get():Returns the value for a specified key. If the key is not found, it returns a default value (or None).\n",
    "Find Example below:"
   ]
  },
  {
   "cell_type": "code",
   "execution_count": 25,
   "id": "3206bfa3",
   "metadata": {},
   "outputs": [
    {
     "name": "stdout",
     "output_type": "stream",
     "text": [
      "2\n"
     ]
    }
   ],
   "source": [
    "my_dict = {'a': 1, 'b': 2, 'c': 3}\n",
    "\n",
    "value = my_dict.get('b')\n",
    "print(value)  \n"
   ]
  },
  {
   "cell_type": "markdown",
   "id": "05e88cf8",
   "metadata": {},
   "source": [
    "# 3. Items():Returns a view of all key-value pairs in the dictionary.\n",
    "Find Example below:"
   ]
  },
  {
   "cell_type": "code",
   "execution_count": 28,
   "id": "64f4d73f",
   "metadata": {},
   "outputs": [
    {
     "name": "stdout",
     "output_type": "stream",
     "text": [
      "dict_items([('a', 1), ('b', 2), ('c', 3)])\n"
     ]
    }
   ],
   "source": [
    "my_dict = {'a': 1, 'b': 2, 'c': 3}\n",
    "\n",
    "all_items = my_dict.items()\n",
    "print(all_items)  \n"
   ]
  },
  {
   "cell_type": "markdown",
   "id": "84ba6fd3",
   "metadata": {},
   "source": [
    "# 4. Values():Returns a view of all the values in the dictionary.\n",
    "Find Example below:"
   ]
  },
  {
   "cell_type": "code",
   "execution_count": 2,
   "id": "08d93e0e",
   "metadata": {
    "scrolled": true
   },
   "outputs": [
    {
     "name": "stdout",
     "output_type": "stream",
     "text": [
      "dict_values([1, 2, 3])\n"
     ]
    }
   ],
   "source": [
    "my_dict = {'a': 1, 'b': 2, 'c': 3}\n",
    "\n",
    "all_values = my_dict.values()\n",
    "print(all_values)  "
   ]
  },
  {
   "cell_type": "markdown",
   "id": "f89ca420",
   "metadata": {},
   "source": [
    "# 5. Items(): Returns a view of all key-value pairs in the dictionary.\n",
    "Find Example below:"
   ]
  },
  {
   "cell_type": "code",
   "execution_count": 3,
   "id": "3a506cc2",
   "metadata": {},
   "outputs": [
    {
     "name": "stdout",
     "output_type": "stream",
     "text": [
      "dict_items([('a', 1), ('b', 2), ('c', 3)])\n"
     ]
    }
   ],
   "source": [
    "my_dict = {'a': 1, 'b': 2, 'c': 3}\n",
    "\n",
    "all_items = my_dict.items()\n",
    "print(all_items)  "
   ]
  },
  {
   "cell_type": "markdown",
   "id": "62df1a75",
   "metadata": {},
   "source": [
    "# 6. Popitem():Removes and returns the last key-value pair as a tuple.\n",
    "Find Example below:"
   ]
  },
  {
   "cell_type": "code",
   "execution_count": 4,
   "id": "76a8ce1c",
   "metadata": {},
   "outputs": [
    {
     "name": "stdout",
     "output_type": "stream",
     "text": [
      "{'a': 1, 'b': 2}\n",
      "('c', 3)\n"
     ]
    }
   ],
   "source": [
    "my_dict = {'a': 1, 'b': 2, 'c': 3}\n",
    "\n",
    "removed_item = my_dict.popitem()\n",
    "print(my_dict)       \n",
    "print(removed_item)  \n"
   ]
  },
  {
   "cell_type": "markdown",
   "id": "968f6d70",
   "metadata": {},
   "source": [
    "# 7. Clear():Removes all items from the dictionary.\n",
    "Find Example below:"
   ]
  },
  {
   "cell_type": "code",
   "execution_count": 5,
   "id": "e93b4e53",
   "metadata": {},
   "outputs": [
    {
     "name": "stdout",
     "output_type": "stream",
     "text": [
      "{}\n"
     ]
    }
   ],
   "source": [
    "my_dict = {'a': 1, 'b': 2, 'c': 3}\n",
    "\n",
    "my_dict.clear()\n",
    "print(my_dict)  \n"
   ]
  },
  {
   "cell_type": "markdown",
   "id": "c7de62ac",
   "metadata": {},
   "source": [
    "# 8. pop():Removes and returns the value for a specified key\n",
    "Find Example below:"
   ]
  },
  {
   "cell_type": "code",
   "execution_count": 6,
   "id": "8dd94d20",
   "metadata": {},
   "outputs": [
    {
     "name": "stdout",
     "output_type": "stream",
     "text": [
      "{'a': 1, 'c': 3}\n",
      "2\n"
     ]
    }
   ],
   "source": [
    "my_dict = {'a': 1, 'b': 2, 'c': 3}\n",
    "\n",
    "removed_value = my_dict.pop('b')\n",
    "\n",
    "print(my_dict)       \n",
    "print(removed_value)  \n"
   ]
  }
 ],
 "metadata": {
  "kernelspec": {
   "display_name": "Python 3 (ipykernel)",
   "language": "python",
   "name": "python3"
  },
  "language_info": {
   "codemirror_mode": {
    "name": "ipython",
    "version": 3
   },
   "file_extension": ".py",
   "mimetype": "text/x-python",
   "name": "python",
   "nbconvert_exporter": "python",
   "pygments_lexer": "ipython3",
   "version": "3.11.5"
  }
 },
 "nbformat": 4,
 "nbformat_minor": 5
}
