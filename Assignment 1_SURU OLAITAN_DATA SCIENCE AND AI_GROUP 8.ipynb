{
 "cells": [
  {
   "cell_type": "markdown",
   "id": "e3c8dee2",
   "metadata": {},
   "source": [
    "# Software Development – List, Tuple\n"
   ]
  },
  {
   "cell_type": "markdown",
   "id": "b2822b4d",
   "metadata": {},
   "source": [
    "1.\tWrite a program that finds the maximum value of the given list, assuming that the list contains at least one element.\n",
    "\n",
    "Try your program with the following array\n",
    "\n",
    "2\t4\t7\t4\t23\t5\t1\t4\t8\t9"
   ]
  },
  {
   "cell_type": "code",
   "execution_count": 2,
   "id": "b59717f3",
   "metadata": {
    "scrolled": true
   },
   "outputs": [
    {
     "name": "stdout",
     "output_type": "stream",
     "text": [
      "The maximum value in the given list is: 23\n"
     ]
    }
   ],
   "source": [
    "numbers=[2,4,7,4,23,5,1,4,8,9]\n",
    "maximum_value = max(numbers)\n",
    "print(\"The maximum value in the given list is:\",maximum_value)\n"
   ]
  },
  {
   "cell_type": "raw",
   "id": "8b1fe2b5",
   "metadata": {},
   "source": [
    "2. Write a program that calculates the average value of the given list. Try your program with the following list\n",
    "4\t7\t1\t5\t11\t53\t12\t46\t84\t23\n",
    "\n"
   ]
  },
  {
   "cell_type": "code",
   "execution_count": 1,
   "id": "b4af83a6",
   "metadata": {},
   "outputs": [
    {
     "name": "stdout",
     "output_type": "stream",
     "text": [
      "The average value in the given list is: 24.6\n"
     ]
    }
   ],
   "source": [
    "numbers=[4,7,1,5,11,53,12,46,84,23]\n",
    "average_value = sum(numbers)/len(numbers)\n",
    "print(\"The average value in the given list is:\",average_value)"
   ]
  },
  {
   "cell_type": "raw",
   "id": "cf38eb1c",
   "metadata": {},
   "source": [
    "3. Write a program that prints the given list of integers in reverse order. Try your program with the following list\n",
    "2\t6\t7\t45\t23\t53\t14\t45\t89\t5\n",
    "\n"
   ]
  },
  {
   "cell_type": "code",
   "execution_count": 4,
   "id": "c8dc2303",
   "metadata": {},
   "outputs": [
    {
     "name": "stdout",
     "output_type": "stream",
     "text": [
      "List of integers in reverse order: [5, 89, 45, 14, 53, 23, 45, 7, 6, 2]\n"
     ]
    }
   ],
   "source": [
    "numbers=[2,6,7,45,23,53,14,45,89,5]\n",
    "reversed_numbers = list(reversed(numbers))\n",
    "print(\"List of integers in reverse order:\",reversed_numbers)\n",
    "\n"
   ]
  },
  {
   "cell_type": "markdown",
   "id": "4d933702",
   "metadata": {},
   "source": [
    "4. Write a program that accepts two lists of integers and prints true if each element in the first list is less than the element at the same index in the second list. Your program should print false if the lists are not the same length.\n"
   ]
  },
  {
   "cell_type": "code",
   "execution_count": 7,
   "id": "e7433795",
   "metadata": {},
   "outputs": [
    {
     "name": "stdout",
     "output_type": "stream",
     "text": [
      "True\n"
     ]
    }
   ],
   "source": [
    "def compare_lists(list1, list2):\n",
    "    # Check if the lists are of the same length\n",
    "    if len(list1) != len(list2):\n",
    "        return False\n",
    "    \n",
    "    # Compare elements at the same index in both lists\n",
    "    for i in range(len(list1)):\n",
    "        if list1[i] >= list2[i]:\n",
    "            return False\n",
    "    \n",
    "    return True\n",
    "\n",
    "# Example lists\n",
    "list_a = [2, 4, 6, 8]\n",
    "list_b = [3, 5, 7, 9]\n",
    "\n",
    "# Check and print the result\n",
    "result = compare_lists(list_a, list_b)\n",
    "print(result)"
   ]
  },
  {
   "cell_type": "markdown",
   "id": "703da396",
   "metadata": {},
   "source": [
    "5.\tWrite a program that accepts a list of integers and two indexes and swaps the elements at those indexes\n"
   ]
  },
  {
   "cell_type": "code",
   "execution_count": 8,
   "id": "0a9bca7b",
   "metadata": {},
   "outputs": [
    {
     "name": "stdout",
     "output_type": "stream",
     "text": [
      "Original list: [1, 2, 3, 4, 5]\n",
      "Elements at indices 1 and 3 swapped:\n",
      "[1, 4, 3, 2, 5]\n"
     ]
    }
   ],
   "source": [
    "def swap_elements(lst, index1, index2):\n",
    "    # Check if the indices are valid\n",
    "    if 0 <= index1 < len(lst) and 0 <= index2 < len(lst):\n",
    "        # Swap the elements at the given indices\n",
    "        lst[index1], lst[index2] = lst[index2], lst[index1]\n",
    "        return True\n",
    "    else:\n",
    "        return False\n",
    "\n",
    "# Example list\n",
    "my_list = [1, 2, 3, 4, 5]\n",
    "\n",
    "# Example indices to swap\n",
    "index_to_swap1 = 1\n",
    "index_to_swap2 = 3\n",
    "\n",
    "# Display the original list\n",
    "print(\"Original list:\", my_list)\n",
    "\n",
    "# Swap elements at the given indices\n",
    "success = swap_elements(my_list, index_to_swap1, index_to_swap2)\n",
    "\n",
    "# Display the modified list or an error message\n",
    "if success:\n",
    "    print(f\"Elements at indices {index_to_swap1} and {index_to_swap2} swapped:\")\n",
    "    print(my_list)\n",
    "else:\n",
    "    print(\"Invalid indices. No swapping performed.\")\n"
   ]
  },
  {
   "cell_type": "markdown",
   "id": "d00d44ac",
   "metadata": {},
   "source": [
    "6.\tWrite a program that accepts two lists of integers and prints a new list containing all elements of the first list followed by all elements of the second.\n",
    "\n"
   ]
  },
  {
   "cell_type": "code",
   "execution_count": 9,
   "id": "f945aa54",
   "metadata": {},
   "outputs": [
    {
     "name": "stdout",
     "output_type": "stream",
     "text": [
      "List A: [1, 2, 3]\n",
      "List B: [4, 5, 6]\n",
      "Concatenated List: [1, 2, 3, 4, 5, 6]\n"
     ]
    }
   ],
   "source": [
    "def concatenate_lists(list1, list2):\n",
    "    # Use the '+' operator to concatenate lists\n",
    "    concatenated_list = list1 + list2\n",
    "    return concatenated_list\n",
    "\n",
    "# Example lists\n",
    "list_a = [1, 2, 3]\n",
    "list_b = [4, 5, 6]\n",
    "\n",
    "# Concatenate the lists\n",
    "result_list = concatenate_lists(list_a, list_b)\n",
    "\n",
    "# Print the result\n",
    "print(\"List A:\", list_a)\n",
    "print(\"List B:\", list_b)\n",
    "print(\"Concatenated List:\", result_list)\n"
   ]
  },
  {
   "cell_type": "markdown",
   "id": "003ddf85",
   "metadata": {},
   "source": [
    "7.\tWrite a program that accepts a list of integers and an integer value as its parameters and prints the last index at which the value occurs in the list. The program should print –1 if the value is not found. For example, in the list [74, 85, 102, 99, 101, 85, 56], the last index of the value 85 is 5.\n",
    "\n"
   ]
  },
  {
   "cell_type": "code",
   "execution_count": 11,
   "id": "2c01cdd1",
   "metadata": {},
   "outputs": [
    {
     "name": "stdout",
     "output_type": "stream",
     "text": [
      "The last index of 85 is: 5\n"
     ]
    }
   ],
   "source": [
    "def last_index_of_value(lst, value):\n",
    "    # Use the rfind method to find the last index of the value\n",
    "    last_index = len(lst) - 1 - lst[::-1].index(value) if value in lst else -1\n",
    "    return last_index\n",
    "\n",
    "# Example list\n",
    "my_list = [74, 85, 102, 99, 101, 85, 56]\n",
    "\n",
    "# Example value to find\n",
    "value_to_find = 85\n",
    "\n",
    "# Find and print the last index of the value\n",
    "result_index = last_index_of_value(my_list, value_to_find)\n",
    "print(f\"The last index of {value_to_find} is: {result_index}\")\n"
   ]
  },
  {
   "cell_type": "markdown",
   "id": "0f16a0b7",
   "metadata": {},
   "source": [
    "8.\tWrite a program that prints the range of values in a list of integers. The range is defined as 1 more than the difference between the maximum and minimum values in the list. For example, if a list contains the values [36, 12, 25, 19, 46, 31, 22], the program should return 35.You may assume that the list has at least one element."
   ]
  },
  {
   "cell_type": "code",
   "execution_count": 1,
   "id": "341fa1f2",
   "metadata": {},
   "outputs": [
    {
     "name": "stdout",
     "output_type": "stream",
     "text": [
      "The range of values in the list is: 35\n"
     ]
    }
   ],
   "source": [
    "def calculate_range(lst):\n",
    "    # Calculate the range (1 more than the difference between max and min values)\n",
    "    range_value = max(lst) - min(lst) + 1\n",
    "    return range_value\n",
    "\n",
    "# Example list\n",
    "my_list = [36, 12, 25, 19, 46, 31, 22]\n",
    "\n",
    "# Calculate and print the range of values in the list\n",
    "result_range = calculate_range(my_list)\n",
    "print(\"The range of values in the list is:\", result_range)\n"
   ]
  },
  {
   "cell_type": "markdown",
   "id": "96d07c47",
   "metadata": {},
   "source": [
    "9.\tWrite a program that accepts a list of integers, a minimum value, and a maximum value and prints the count of how many elements from the list fall between the minimum and maximum (inclusive). For example, in the list [14, 1, 22, 17, 36, 7, -43, 5], for minimum value 4 and maximum value 17, there are four elements whose values fall between 4 and 17."
   ]
  },
  {
   "cell_type": "code",
   "execution_count": 13,
   "id": "4b1fb33f",
   "metadata": {},
   "outputs": [
    {
     "name": "stdout",
     "output_type": "stream",
     "text": [
      "The number of elements between 4 and 17 (inclusive) is: 4\n"
     ]
    }
   ],
   "source": [
    "def count_elements_in_range(lst, min_value, max_value):\n",
    "    # Use list comprehension to filter elements within the specified range\n",
    "    elements_in_range = [element for element in lst if min_value <= element <= max_value]\n",
    "    \n",
    "    # Print the count of elements in the range\n",
    "    count = len(elements_in_range)\n",
    "    return count\n",
    "\n",
    "# Example list\n",
    "my_list = [14, 1, 22, 17, 36, 7, -43, 5]\n",
    "\n",
    "# Example minimum and maximum values\n",
    "min_value = 4\n",
    "max_value = 17\n",
    "\n",
    "# Count and print the number of elements in the specified range\n",
    "result_count = count_elements_in_range(my_list, min_value, max_value)\n",
    "print(f\"The number of elements between {min_value} and {max_value} (inclusive) is: {result_count}\")\n"
   ]
  },
  {
   "cell_type": "markdown",
   "id": "f232f846",
   "metadata": {},
   "source": [
    "10.\tWrite a program that accepts a list of real numbers and prints true if the list is in sorted (nondecreasing) order and false otherwise. For example, if lists named list1 and list2 store [16.1, 12.3, 22.2, 14.4] and [1.5, 4.3, 7.0, 19.5, 25.1, 46.2] respectively, the program should print false for list1 and true for list2 respectively. Assume the list has at least one element. A one-element list is sorted."
   ]
  },
  {
   "cell_type": "code",
   "execution_count": 14,
   "id": "d0149d91",
   "metadata": {},
   "outputs": [
    {
     "name": "stdout",
     "output_type": "stream",
     "text": [
      "Is list1 sorted? False\n",
      "Is list2 sorted? True\n"
     ]
    }
   ],
   "source": [
    "def is_sorted(lst):\n",
    "    # Use the all() function to check if all elements are in non-decreasing order\n",
    "    return all(lst[i] <= lst[i + 1] for i in range(len(lst) - 1))\n",
    "\n",
    "# Example lists\n",
    "list1 = [16.1, 12.3, 22.2, 14.4]\n",
    "list2 = [1.5, 4.3, 7.0, 19.5, 25.1, 46.2]\n",
    "\n",
    "# Check and print whether the lists are in sorted order\n",
    "result1 = is_sorted(list1)\n",
    "result2 = is_sorted(list2)\n",
    "\n",
    "print(f\"Is list1 sorted? {result1}\")\n",
    "print(f\"Is list2 sorted? {result2}\")\n"
   ]
  }
 ],
 "metadata": {
  "kernelspec": {
   "display_name": "Python 3 (ipykernel)",
   "language": "python",
   "name": "python3"
  },
  "language_info": {
   "codemirror_mode": {
    "name": "ipython",
    "version": 3
   },
   "file_extension": ".py",
   "mimetype": "text/x-python",
   "name": "python",
   "nbconvert_exporter": "python",
   "pygments_lexer": "ipython3",
   "version": "3.11.5"
  }
 },
 "nbformat": 4,
 "nbformat_minor": 5
}
